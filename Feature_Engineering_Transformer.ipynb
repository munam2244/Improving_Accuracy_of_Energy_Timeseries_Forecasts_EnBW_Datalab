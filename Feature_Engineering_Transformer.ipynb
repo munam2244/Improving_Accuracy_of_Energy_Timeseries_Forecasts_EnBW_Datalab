{
 "cells": [
  {
   "cell_type": "code",
   "execution_count": null,
   "metadata": {},
   "outputs": [],
   "source": [
    "# FEATURE ENGINEERING FOR TRANSFORMER TIMESERIES"
   ]
  },
  {
   "cell_type": "code",
   "execution_count": 3,
   "metadata": {},
   "outputs": [
    {
     "name": "stdout",
     "output_type": "stream",
     "text": [
      "           date          holiday_name\n",
      "0    2019-01-01              New year\n",
      "45   2019-01-05               Weekend\n",
      "46   2019-01-06               Weekend\n",
      "47   2019-01-12               Weekend\n",
      "48   2019-01-13               Weekend\n",
      "..          ...                   ...\n",
      "564  2023-12-24               Weekend\n",
      "43   2023-12-25         Christmas Day\n",
      "44   2023-12-26  Second Christmas Day\n",
      "565  2023-12-30               Weekend\n",
      "566  2023-12-31               Weekend\n",
      "\n",
      "[567 rows x 2 columns]\n"
     ]
    }
   ],
   "source": [
    "from workalendar.europe import Germany\n",
    "from datetime import date, timedelta\n",
    "import pandas as pd\n",
    "\n",
    "\n",
    "\n",
    "# Create a Germany calendar instance\n",
    "germany_calendar = Germany()\n",
    "\n",
    "# Define the range of years for which you want to get the holidays\n",
    "start_year = 2019\n",
    "end_year = 2023\n",
    "\n",
    "# Initialize an empty DataFrame to store holidays\n",
    "holidays_df = pd.DataFrame(columns=['date', 'holiday_name'])\n",
    "\n",
    "# Get holidays for each year and append to the DataFrame\n",
    "for year in range(start_year, end_year + 1):\n",
    "    holidays = germany_calendar.holidays(year)\n",
    "    year_holidays_df = pd.DataFrame(holidays, columns=['date', 'holiday_name'])\n",
    "    holidays_df = pd.concat([holidays_df, year_holidays_df], ignore_index=True)\n",
    "\n",
    "# Add weekends (Saturdays and Sundays) to the DataFrame\n",
    "current_date = date(start_year, 1, 1)\n",
    "end_date = date(end_year, 12, 31)\n",
    "\n",
    "weekend_data = []\n",
    "\n",
    "while current_date <= end_date:\n",
    "    if current_date.weekday() in [5, 6]:  # 5 is Saturday, 6 is Sunday\n",
    "        weekend_data.append({'date': current_date, 'holiday_name': 'Weekend'})\n",
    "    current_date += timedelta(days=1)\n",
    "\n",
    "# Convert the list to a DataFrame\n",
    "weekend_df = pd.DataFrame(weekend_data)\n",
    "\n",
    "# Append the weekend DataFrame to the holidays DataFrame\n",
    "holidays_df = pd.concat([holidays_df, weekend_df], ignore_index=True)\n",
    "\n",
    "holidays_df = holidays_df.sort_values(by='date')\n",
    "\n",
    "# Print the sorted DataFrame\n",
    "print(holidays_df)"
   ]
  },
  {
   "cell_type": "code",
   "execution_count": null,
   "metadata": {},
   "outputs": [],
   "source": [
    "data = pd.read_csv(\"./timeseries_data/trafo_67.csv\")\n",
    "data[\"timestamp\"] = pd.to_datetime(data[\"timestampUtc\"])\n",
    "data_modified = data.drop(columns=[\"timestampUtc\"]).set_index(\"timestamp\")\n",
    "\n",
    "\n",
    "\n",
    "\n",
    "data_modified_fe = data_modified.copy()\n",
    "\n",
    "# Encoding local timestamp\n",
    "data_modified_fe['Day_value_Stamp'] = data_modified.index.hour * 4 + data_modified.index.minute / 15\n",
    "\n",
    "# Indicator variable for bridgedays (Mondays in case of a holiday on Tuesday)\n",
    "#df['is_bridgeday'] = ((df['timestamp'].dt.dayofweek == 0) & ((df['timestamp'] + timedelta(days=1)).dt.isin(holiday_dates)))\n",
    "\n",
    "# Day of the week\n",
    "data_modified_fe['day_of_week'] = data_modified.index.dayofweek\n",
    "\n",
    "\n",
    "# Convert index to pandas Series of dates\n",
    "data_dates = pd.to_datetime(data_modified_fe.index.date)\n",
    "\n",
    "# Check if each date is in the holidays DataFrame\n",
    "data_modified_fe['Holidays'] = data_dates.isin(holidays_df['date']).astype(np.int8)\n",
    "\n",
    "\n",
    "\n",
    "#pd.set_option('display.max_rows', None)\n",
    "pd.reset_option('display.max_rows')\n",
    "\n",
    "# Print the resulting DataFrame\n",
    "print(data_modified_fe)"
   ]
  },
  {
   "cell_type": "code",
   "execution_count": null,
   "metadata": {},
   "outputs": [],
   "source": [
    "from datetime import date\n",
    "import holidays\n",
    "\n",
    "germany_holidays = holidays.DE(subdiv='BW')  \n",
    "\n",
    "\n",
    "\n",
    "# Assuming data_modified_fe is your DataFrame with a DatetimeIndex\n",
    "data_dates = pd.to_datetime(data_modified_fe.index.date)\n",
    "\n",
    "data_modified_fe_1 = data_modified_fe.copy()\n",
    "\n",
    "# Check if each date is a holiday in the 'BW' region\n",
    "data_modified_fe_1['Holidays'] = data_dates.isin(germany_holidays)\n",
    "\n",
    "# Convert boolean to integers (0 for False, 1 for True)\n",
    "data_modified_fe_1['Holidays'] = data_modified_fe_1['Holidays'].astype(np.int8)\n",
    "\n",
    "# Print the resulting DataFrame\n",
    "print(data_modified_fe_1)"
   ]
  }
 ],
 "metadata": {
  "kernelspec": {
   "display_name": ".venv",
   "language": "python",
   "name": "python3"
  },
  "language_info": {
   "codemirror_mode": {
    "name": "ipython",
    "version": 3
   },
   "file_extension": ".py",
   "mimetype": "text/x-python",
   "name": "python",
   "nbconvert_exporter": "python",
   "pygments_lexer": "ipython3",
   "version": "3.11.6"
  }
 },
 "nbformat": 4,
 "nbformat_minor": 2
}
